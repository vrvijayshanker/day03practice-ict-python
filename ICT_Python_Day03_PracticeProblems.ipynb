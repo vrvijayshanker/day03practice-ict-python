{
  "nbformat": 4,
  "nbformat_minor": 0,
  "metadata": {
    "colab": {
      "provenance": [],
      "authorship_tag": "ABX9TyNxT9YtRb5l6x35ti/LtHF2",
      "include_colab_link": true
    },
    "kernelspec": {
      "name": "python3",
      "display_name": "Python 3"
    },
    "language_info": {
      "name": "python"
    }
  },
  "cells": [
    {
      "cell_type": "markdown",
      "metadata": {
        "id": "view-in-github",
        "colab_type": "text"
      },
      "source": [
        "<a href=\"https://colab.research.google.com/github/vrvijayshanker/day03practice-ict-python/blob/main/ICT_Python_Day03_PracticeProblems.ipynb\" target=\"_parent\"><img src=\"https://colab.research.google.com/assets/colab-badge.svg\" alt=\"Open In Colab\"/></a>"
      ]
    },
    {
      "cell_type": "markdown",
      "source": [
        "1. Given the participants' score sheet for your University Sports Day, you are required to\n",
        "find the runner-up score. You are given scores. Store them in a list and find the score of\n",
        "the runner-up. (Create an array of scores and print the runner up score)"
      ],
      "metadata": {
        "id": "BSxblaK17S7A"
      }
    },
    {
      "cell_type": "code",
      "execution_count": null,
      "metadata": {
        "colab": {
          "base_uri": "https://localhost:8080/"
        },
        "id": "-YORJbdI6_9W",
        "outputId": "110ac8b3-afc1-40da-d2cb-35affa94d87b"
      },
      "outputs": [
        {
          "output_type": "stream",
          "name": "stdout",
          "text": [
            "The Runner-up score is: 90\n"
          ]
        }
      ],
      "source": [
        "sports_day_scores = {\n",
        "    \"Amal\": 85,\n",
        "    \"Diya\": 90,\n",
        "    \"Arjun\": 95,\n",
        "    \"Aisha\": 86,\n",
        "    \"Jacob\": 75,\n",
        "    \"Silpa\": 90\n",
        "}\n",
        "\n",
        "# extract and save unique/distinct values to the list\n",
        "scores = list(set(sports_day_scores.values()))\n",
        "\n",
        "# To sort in descending order\n",
        "scores.sort(reverse=True)\n",
        "\n",
        "print('The Runner-up score is:', scores[1])"
      ]
    },
    {
      "cell_type": "markdown",
      "source": [
        "2. A dictionary is given D={‘John’ [25,32,43],’Peter’:[87,55,96],’Ram’:[58,55,43],’Meena’:[63,79,85]}\n",
        "\n",
        "Get a name from user if the name in the dictionary change the values corresponding to that user to [88,77,99] and print the dictionary. Else print ‘Name not found’."
      ],
      "metadata": {
        "id": "VpNiUUSw-Dn4"
      }
    },
    {
      "cell_type": "code",
      "source": [
        "D = {\"John\":[25,32,43], \"Peter\":[87,55,96], \"Ram\":[58,55,43], \"Meena\":[63,79,85]}\n",
        "\n",
        "user_input = input('Enter a name: ')\n",
        "\n",
        "for key in D.keys():\n",
        "  if key.lower() == user_input.lower():\n",
        "    D[key] = [88,77,99]\n",
        "    break\n",
        "\n",
        "else:\n",
        "  print('Not Found')\n",
        "\n",
        "print(D)\n"
      ],
      "metadata": {
        "colab": {
          "base_uri": "https://localhost:8080/"
        },
        "id": "azdcfg7P-IzV",
        "outputId": "26974006-f0fe-4a06-afa3-f0d499b7ca32"
      },
      "execution_count": null,
      "outputs": [
        {
          "output_type": "stream",
          "name": "stdout",
          "text": [
            "Enter a name: ram\n",
            "{'John': [25, 32, 43], 'Peter': [87, 55, 96], 'Ram': [88, 77, 99], 'Meena': [63, 79, 85]}\n"
          ]
        }
      ]
    },
    {
      "cell_type": "markdown",
      "source": [
        "3. Ticket Price Calculator:\n",
        "\n",
        "I. Ask the user to enter their age.\n",
        "\n",
        "II. Use control statements (if-elif-else) to calculate the ticket price based on the following conditions:\n",
        "\n",
        "* a. If the age is below 5, the ticket price is free.\n",
        "* b. If the age is between 5 and 12 (inclusive), the ticket price is Rs.10.\n",
        "* c. If the age is above 12, the ticket price is Rs.50.\n",
        "* d. If the age is above 60, the ticket price is free.\n",
        "* e. If the gender is female, the ticket price is 50% of the applicable rates.\n",
        "\n",
        "\n",
        "III. Display the ticket price to the user."
      ],
      "metadata": {
        "id": "o3pGw-Iu-JJ8"
      }
    },
    {
      "cell_type": "code",
      "source": [
        "age = int(input('Enter your age: '))\n",
        "gender = input('Enter your gender(\\'M\\' for Male and \\'F\\' for Female): ')\n",
        "ticket_price = 0\n",
        "\n",
        "if age < 5 or age >= 60:\n",
        "  pass\n",
        "elif age <= 12:\n",
        "  if gender.lower() == 'f':\n",
        "    ticket_price = round(10/2)\n",
        "  else:\n",
        "    ticket_price += 10\n",
        "else:\n",
        "  if gender.lower() == 'f':\n",
        "    ticket_price = round(50/2)\n",
        "  else:\n",
        "    ticket_price += 50\n",
        "\n",
        "print('Ticket charge: Rs.', ticket_price)\n"
      ],
      "metadata": {
        "colab": {
          "base_uri": "https://localhost:8080/"
        },
        "id": "r79J7mHnTaAr",
        "outputId": "54dc5aa9-9f76-411e-80b1-3e317c314f9c"
      },
      "execution_count": null,
      "outputs": [
        {
          "output_type": "stream",
          "name": "stdout",
          "text": [
            "Enter your age: 62\n",
            "Enter your gender('M' for Male and 'F' for Female): f\n",
            "Ticket charge: Rs. 0\n"
          ]
        }
      ]
    }
  ]
}